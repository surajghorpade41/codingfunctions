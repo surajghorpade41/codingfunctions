{
 "cells": [
  {
   "cell_type": "code",
   "execution_count": 6,
   "metadata": {},
   "outputs": [
    {
     "name": "stdout",
     "output_type": "stream",
     "text": [
      "['sachin', 'dhoni', 'virat']\n",
      "[10, 7, 18]\n",
      "['messi', 'ronaldo', 'neymar']\n",
      "[19, 12, 13]\n",
      "['sachin', 'dhoni', 'virat', 'messi', 'ronaldo', 'neymar']\n",
      "[10, 7, 18, 19, 12, 13]\n"
     ]
    }
   ],
   "source": [
    "##assigning elements to different lists\n",
    "names=['sachin','dhoni','virat']\n",
    "print(names)\n",
    "nums=[10,7,18]\n",
    "print(nums)\n",
    "names1=['messi','ronaldo','neymar']\n",
    "print(names1)\n",
    "nums1=[19,12,13]\n",
    "print(nums1)\n",
    "finalnames=(names+names1)\n",
    "finalnums=(nums+nums1)\n",
    "print(finalnames)\n",
    "print(finalnums)\n"
   ]
  },
  {
   "cell_type": "code",
   "execution_count": 12,
   "metadata": {},
   "outputs": [
    {
     "name": "stdout",
     "output_type": "stream",
     "text": [
      "('dhoni', 'virat', 'shreyas', 'sachin', 'gavaskar')\n",
      "('virat', 'shreyas', 'sachin')\n"
     ]
    }
   ],
   "source": [
    "##accessing elements from tuple\n",
    "tuple=(\"dhoni\",\"virat\",\"shreyas\",\"sachin\",\"gavaskar\")\n",
    "print(tuple)\n",
    "print(tuple[1:4])\n"
   ]
  },
  {
   "cell_type": "code",
   "execution_count": 29,
   "metadata": {},
   "outputs": [
    {
     "name": "stdout",
     "output_type": "stream",
     "text": [
      "{'cricket': 'DHONI', 'football': 'MESSI', 'carrom': 'MYSELF', 'F1': 'LEWIS HAMILTON', 'basketball': 'DOT', 'movie': 'THE QUIET', 'book': 'the power of positive thinking'}\n",
      "{'cricket': 'DHONI', 'carrom': 'MYSELF', 'F1': 'LEWIS HAMILTON', 'basketball': 'DOT', 'movie': 'THE QUIET', 'book': 'the power of positive thinking'}\n"
     ]
    }
   ],
   "source": [
    "##deleting different dictionary elements\n",
    "myfavs = {\n",
    "    \"cricket\" : \"DHONI\",\n",
    "    \"football\" : \"MESSI\",\n",
    "    \"carrom\" :\"MYSELF\",\n",
    "    \"F1\" : \"LEWIS HAMILTON\",\n",
    "    \"basketball\" : \"DOT\",\n",
    "    \"movie\" : \"THE QUIET\"\n",
    "  }\n",
    "myfavs[\"book\"]=\"the power of positive thinking\"\n",
    "print(myfavs)\n",
    "del myfavs[\"football\"]\n",
    "print(myfavs)"
   ]
  }
 ],
 "metadata": {
  "kernelspec": {
   "display_name": "Python 3",
   "language": "python",
   "name": "python3"
  },
  "language_info": {
   "codemirror_mode": {
    "name": "ipython",
    "version": 3
   },
   "file_extension": ".py",
   "mimetype": "text/x-python",
   "name": "python",
   "nbconvert_exporter": "python",
   "pygments_lexer": "ipython3",
   "version": "3.8.3"
  }
 },
 "nbformat": 4,
 "nbformat_minor": 4
}
